{
 "cells": [
  {
   "cell_type": "code",
   "execution_count": 1,
   "metadata": {},
   "outputs": [],
   "source": [
    "import pandas as pd\n",
    "import collections as cl\n",
    "import operator"
   ]
  },
  {
   "cell_type": "code",
   "execution_count": 41,
   "metadata": {},
   "outputs": [
    {
     "data": {
      "text/plain": [
       "['Respondent',\n",
       " 'Professional',\n",
       " 'ProgramHobby',\n",
       " 'Country',\n",
       " 'University',\n",
       " 'EmploymentStatus',\n",
       " 'FormalEducation',\n",
       " 'MajorUndergrad',\n",
       " 'HomeRemote',\n",
       " 'CompanySize',\n",
       " 'CompanyType',\n",
       " 'YearsProgram',\n",
       " 'YearsCodedJob',\n",
       " 'YearsCodedJobPast',\n",
       " 'DeveloperType',\n",
       " 'WebDeveloperType',\n",
       " 'MobileDeveloperType',\n",
       " 'NonDeveloperType',\n",
       " 'CareerSatisfaction',\n",
       " 'JobSatisfaction',\n",
       " 'ExCoderReturn',\n",
       " 'ExCoderNotForMe',\n",
       " 'ExCoderBalance',\n",
       " 'ExCoder10Years',\n",
       " 'ExCoderBelonged',\n",
       " 'ExCoderSkills',\n",
       " 'ExCoderWillNotCode',\n",
       " 'ExCoderActive',\n",
       " 'PronounceGIF',\n",
       " 'ProblemSolving',\n",
       " 'BuildingThings',\n",
       " 'LearningNewTech',\n",
       " 'BoringDetails',\n",
       " 'JobSecurity',\n",
       " 'DiversityImportant',\n",
       " 'AnnoyingUI',\n",
       " 'FriendsDevelopers',\n",
       " 'RightWrongWay',\n",
       " 'UnderstandComputers',\n",
       " 'SeriousWork',\n",
       " 'InvestTimeTools',\n",
       " 'WorkPayCare',\n",
       " 'KinshipDevelopers',\n",
       " 'ChallengeMyself',\n",
       " 'CompetePeers',\n",
       " 'ChangeWorld',\n",
       " 'JobSeekingStatus',\n",
       " 'HoursPerWeek',\n",
       " 'LastNewJob',\n",
       " 'AssessJobIndustry',\n",
       " 'AssessJobRole',\n",
       " 'AssessJobExp',\n",
       " 'AssessJobDept',\n",
       " 'AssessJobTech',\n",
       " 'AssessJobProjects',\n",
       " 'AssessJobCompensation',\n",
       " 'AssessJobOffice',\n",
       " 'AssessJobCommute',\n",
       " 'AssessJobRemote',\n",
       " 'AssessJobLeaders',\n",
       " 'AssessJobProfDevel',\n",
       " 'AssessJobDiversity',\n",
       " 'AssessJobProduct',\n",
       " 'AssessJobFinances',\n",
       " 'ImportantBenefits',\n",
       " 'ClickyKeys',\n",
       " 'JobProfile',\n",
       " 'ResumePrompted',\n",
       " 'LearnedHiring',\n",
       " 'ImportantHiringAlgorithms',\n",
       " 'ImportantHiringTechExp',\n",
       " 'ImportantHiringCommunication',\n",
       " 'ImportantHiringOpenSource',\n",
       " 'ImportantHiringPMExp',\n",
       " 'ImportantHiringCompanies',\n",
       " 'ImportantHiringTitles',\n",
       " 'ImportantHiringEducation',\n",
       " 'ImportantHiringRep',\n",
       " 'ImportantHiringGettingThingsDone',\n",
       " 'Currency',\n",
       " 'Overpaid',\n",
       " 'TabsSpaces',\n",
       " 'EducationImportant',\n",
       " 'EducationTypes',\n",
       " 'SelfTaughtTypes',\n",
       " 'TimeAfterBootcamp',\n",
       " 'CousinEducation',\n",
       " 'WorkStart',\n",
       " 'HaveWorkedLanguage',\n",
       " 'WantWorkLanguage',\n",
       " 'HaveWorkedFramework',\n",
       " 'WantWorkFramework',\n",
       " 'HaveWorkedDatabase',\n",
       " 'WantWorkDatabase',\n",
       " 'HaveWorkedPlatform',\n",
       " 'WantWorkPlatform',\n",
       " 'IDE',\n",
       " 'AuditoryEnvironment',\n",
       " 'Methodology',\n",
       " 'VersionControl',\n",
       " 'CheckInCode',\n",
       " 'ShipIt',\n",
       " 'OtherPeoplesCode',\n",
       " 'ProjectManagement',\n",
       " 'EnjoyDebugging',\n",
       " 'InTheZone',\n",
       " 'DifficultCommunication',\n",
       " 'CollaborateRemote',\n",
       " 'MetricAssess',\n",
       " 'EquipmentSatisfiedMonitors',\n",
       " 'EquipmentSatisfiedCPU',\n",
       " 'EquipmentSatisfiedRAM',\n",
       " 'EquipmentSatisfiedStorage',\n",
       " 'EquipmentSatisfiedRW',\n",
       " 'InfluenceInternet',\n",
       " 'InfluenceWorkstation',\n",
       " 'InfluenceHardware',\n",
       " 'InfluenceServers',\n",
       " 'InfluenceTechStack',\n",
       " 'InfluenceDeptTech',\n",
       " 'InfluenceVizTools',\n",
       " 'InfluenceDatabase',\n",
       " 'InfluenceCloud',\n",
       " 'InfluenceConsultants',\n",
       " 'InfluenceRecruitment',\n",
       " 'InfluenceCommunication',\n",
       " 'StackOverflowDescribes',\n",
       " 'StackOverflowSatisfaction',\n",
       " 'StackOverflowDevices',\n",
       " 'StackOverflowFoundAnswer',\n",
       " 'StackOverflowCopiedCode',\n",
       " 'StackOverflowJobListing',\n",
       " 'StackOverflowCompanyPage',\n",
       " 'StackOverflowJobSearch',\n",
       " 'StackOverflowNewQuestion',\n",
       " 'StackOverflowAnswer',\n",
       " 'StackOverflowMetaChat',\n",
       " 'StackOverflowAdsRelevant',\n",
       " 'StackOverflowAdsDistracting',\n",
       " 'StackOverflowModeration',\n",
       " 'StackOverflowCommunity',\n",
       " 'StackOverflowHelpful',\n",
       " 'StackOverflowBetter',\n",
       " 'StackOverflowWhatDo',\n",
       " 'StackOverflowMakeMoney',\n",
       " 'Gender',\n",
       " 'HighestEducationParents',\n",
       " 'Race',\n",
       " 'SurveyLong',\n",
       " 'QuestionsInteresting',\n",
       " 'QuestionsConfusing',\n",
       " 'InterestedAnswers',\n",
       " 'Salary',\n",
       " 'ExpectedSalary']"
      ]
     },
     "execution_count": 41,
     "metadata": {},
     "output_type": "execute_result"
    }
   ],
   "source": [
    "results_raw = pd.read_csv('developer_survey_2017/survey_results_public.csv', sep=',')\n",
    "all_countries = results_raw['Country'].unique().tolist()\n",
    "list(results_raw)"
   ]
  },
  {
   "cell_type": "code",
   "execution_count": 37,
   "metadata": {},
   "outputs": [],
   "source": [
    "all_countries = all_countries[:10]"
   ]
  },
  {
   "cell_type": "code",
   "execution_count": 38,
   "metadata": {},
   "outputs": [
    {
     "data": {
      "text/plain": [
       "['United States',\n",
       " 'United Kingdom',\n",
       " 'Switzerland',\n",
       " 'New Zealand',\n",
       " 'Poland',\n",
       " 'Colombia',\n",
       " 'France',\n",
       " 'Canada',\n",
       " 'Germany',\n",
       " 'Greece']"
      ]
     },
     "execution_count": 38,
     "metadata": {},
     "output_type": "execute_result"
    }
   ],
   "source": [
    "all_countries"
   ]
  },
  {
   "cell_type": "code",
   "execution_count": 15,
   "metadata": {
    "scrolled": true
   },
   "outputs": [],
   "source": [
    "all_languages = []\n",
    "for idx, r in results_raw.iterrows():\n",
    "    all_languages.extend(str(r['HaveWorkedLanguage']).split(\";\"))"
   ]
  },
  {
   "cell_type": "code",
   "execution_count": 16,
   "metadata": {},
   "outputs": [
    {
     "name": "stdout",
     "output_type": "stream",
     "text": [
      "[('JavaScript', 22875), ('SQL', 18754), ('Java', 14524), ('C#', 12476), ('Python', 11704), ('PHP', 10290), ('C++', 8155), ('C', 6974), ('TypeScript', 3488), ('Ruby', 3324)]\n"
     ]
    }
   ],
   "source": [
    "all_languages = list(filter(('nan').__ne__, all_languages))\n",
    "all_languages = map(str.strip, all_languages)\n",
    "c = cl.Counter(all_languages)\n",
    "print(c.most_common(10))\n",
    "top_languages = c.most_common(10)\n",
    "filter_languages = map(operator.itemgetter(0), top_languages)"
   ]
  },
  {
   "cell_type": "code",
   "execution_count": 27,
   "metadata": {},
   "outputs": [
    {
     "name": "stdout",
     "output_type": "stream",
     "text": [
      "None\n"
     ]
    }
   ],
   "source": [
    "c.most_common(10)\n",
    "\n",
    "lang = [i[0] for i in c.most_common(10)]\n",
    "\n",
    "print(c.get('JavaSsdcript'))"
   ]
  },
  {
   "cell_type": "code",
   "execution_count": 42,
   "metadata": {},
   "outputs": [],
   "source": [
    "countries = pd.DataFrame(columns=['country','JavaScript','SQL','Java','C#','Python','PHP','C++','C','TypeScript','VBA']) \n",
    "\n",
    "for country in all_countries:\n",
    "    languages = [] \n",
    "    for idx, r in results_raw.iterrows():\n",
    "        if r['Country'] == country:\n",
    "            languages.extend(str(r['HaveWorkedLanguage']).split(\";\"))\n",
    "\n",
    "    languages = list(filter(('nan').__ne__, languages))\n",
    "    languages = map(str.strip, languages)\n",
    "    c = cl.Counter(languages) \n",
    "    record = {'country':country}\n",
    "    for l in lang:\n",
    "        record[l] = c.get(l)\n",
    "    countries = countries.append(record, ignore_index=True)"
   ]
  },
  {
   "cell_type": "code",
   "execution_count": 33,
   "metadata": {},
   "outputs": [],
   "source": []
  },
  {
   "cell_type": "code",
   "execution_count": 43,
   "metadata": {},
   "outputs": [
    {
     "name": "stdout",
     "output_type": "stream",
     "text": [
      "                            country JavaScript   SQL  Java    C# Python   PHP  \\\n",
      "0                     United States       5699  4589  3191  3100   3348  1827   \n",
      "1                    United Kingdom       2214  1849   940  1386   1038   888   \n",
      "2                       Switzerland        256   232   214   180    156   136   \n",
      "3                       New Zealand        132   101    66    82     62    40   \n",
      "4                            Poland        563   439   351   292    292   230   \n",
      "5                          Colombia         79    46    41    33     22    31   \n",
      "6                            France        807   631   496   310    437   439   \n",
      "7                            Canada       1104   872   613   647    620   424   \n",
      "8                           Germany       1770  1450  1458   953    947   937   \n",
      "9                            Greece        135   125   109    70     79    79   \n",
      "10                           Brazil        361   267   240   173    164   161   \n",
      "11                           Israel        246   187   187   143    156    65   \n",
      "12                            Italy        376   313   250   164    158   217   \n",
      "13                          Belgium        211   165   122   131     85    99   \n",
      "14                            India       1580  1373  1378   658    735   885   \n",
      "15                            Chile         47    45    35    20     34    29   \n",
      "16                          Croatia         82    60    50    48     40    37   \n",
      "17                        Argentina        121    91    61    51     39    54   \n",
      "18                      Netherlands        416   351   247   254    214   237   \n",
      "19                          Denmark        147   119    70   114     62    58   \n",
      "20                          Ukraine        136   103    75    72     56    54   \n",
      "21                        Sri Lanka         73    64    67    37     29    44   \n",
      "22                         Malaysia         92    68    69    44     27    52   \n",
      "23                          Finland        156   101    81    75     92    64   \n",
      "24                           Turkey        121   110    99    89     60    60   \n",
      "25                            Spain        390   308   285   141    197   194   \n",
      "26                          Austria        224   207   184   139     83   115   \n",
      "27                           Mexico        170   141    98    87     70    79   \n",
      "28               Russian Federation        313   263   184   171    204   134   \n",
      "29                         Bulgaria        126    98    76    68     36    54   \n",
      "..                              ...        ...   ...   ...   ...    ...   ...   \n",
      "171                      Seychelles          1     1  None  None   None     1   \n",
      "172                          Guinea          1     1     1     1      1     1   \n",
      "173                           Aruba       None  None  None  None   None  None   \n",
      "174                          Belize          3     2     3  None      1     2   \n",
      "175                           Benin          2     2     1     1      2     2   \n",
      "176                       Swaziland          1     1     1     1      1     1   \n",
      "177                        Barbados          2     2     1     2   None     2   \n",
      "178                         Eritrea       None     1     1  None   None  None   \n",
      "179                           Niger       None     1     1     1      1  None   \n",
      "180                        Suriname          1  None     1     1   None  None   \n",
      "181                            Guam          1     1  None     1   None  None   \n",
      "182             Antigua and Barbuda          1     1  None  None   None     2   \n",
      "183                        Djibouti       None  None  None  None   None  None   \n",
      "184                            Mali       None  None  None  None   None  None   \n",
      "185  British Indian Ocean Territory       None  None  None  None   None  None   \n",
      "186        Northern Mariana Islands          1     1  None  None   None  None   \n",
      "187      Saint Vincent & Grenadines       None     1     1  None   None     1   \n",
      "188             Martinique (French)          1  None  None  None   None  None   \n",
      "189                         Burundi          1     1     1     1      1     1   \n",
      "190                    Cook Islands       None  None  None  None   None  None   \n",
      "191                           Yemen          1     2     2     1      1     1   \n",
      "192                    Turkmenistan          1     1     1     1      1     1   \n",
      "193                           Macau          1     1     1  None      1     1   \n",
      "194                            Chad       None  None     1  None   None  None   \n",
      "195                Falkland Islands       None     1  None     1   None  None   \n",
      "196                      Montserrat          1  None     1  None   None  None   \n",
      "197                Christmas Island       None  None  None  None   None  None   \n",
      "198      Heard and McDonald Islands       None  None  None  None   None  None   \n",
      "199                         Comoros       None     1  None  None   None     1   \n",
      "200                    Saint Helena          1  None     1  None   None  None   \n",
      "\n",
      "      C++     C TypeScript   VBA  \n",
      "0    1837  1534        832   404  \n",
      "1     570   441        361   214  \n",
      "2     123    88         54    39  \n",
      "3      27    24         21     6  \n",
      "4     228   147        100    30  \n",
      "5      12     5         16     2  \n",
      "6     342   343        129    54  \n",
      "7     407   308        176    96  \n",
      "8     868   688        295   154  \n",
      "9      52    61         21     8  \n",
      "10    111   123         41    20  \n",
      "11     85    69         52     8  \n",
      "12    126   124         39    20  \n",
      "13     52    46         41    18  \n",
      "14    694   817        158    69  \n",
      "15     11    17          2     4  \n",
      "16     28    21         10     4  \n",
      "17     24    19         12     4  \n",
      "18    126    98         88    24  \n",
      "19     38    30         36    11  \n",
      "20     58    47         22     2  \n",
      "21     25    19          6     2  \n",
      "22     33    27          8     4  \n",
      "23     44    38         18     3  \n",
      "24     61    55          8     5  \n",
      "25    112   104         52    23  \n",
      "26     96    87         47    21  \n",
      "27     43    48         14    11  \n",
      "28    149   102         56    20  \n",
      "29     38    24         20     6  \n",
      "..    ...   ...        ...   ...  \n",
      "171  None  None       None  None  \n",
      "172  None  None       None  None  \n",
      "173  None  None       None  None  \n",
      "174     2     2       None  None  \n",
      "175     1     1       None  None  \n",
      "176     1     1          1  None  \n",
      "177     1     1       None  None  \n",
      "178  None  None       None  None  \n",
      "179  None  None       None     1  \n",
      "180  None  None       None  None  \n",
      "181  None  None          1  None  \n",
      "182     1     2          1  None  \n",
      "183  None  None       None  None  \n",
      "184  None  None       None  None  \n",
      "185  None  None       None  None  \n",
      "186  None  None       None  None  \n",
      "187  None  None       None  None  \n",
      "188  None  None       None  None  \n",
      "189     1     1          1     1  \n",
      "190  None  None       None  None  \n",
      "191     2  None       None  None  \n",
      "192     1     1       None  None  \n",
      "193     1  None       None  None  \n",
      "194  None  None       None  None  \n",
      "195  None  None       None  None  \n",
      "196  None  None       None  None  \n",
      "197  None  None       None  None  \n",
      "198  None  None       None  None  \n",
      "199  None  None       None     1  \n",
      "200  None  None       None  None  \n",
      "\n",
      "[201 rows x 11 columns]\n"
     ]
    }
   ],
   "source": [
    "print(countries)"
   ]
  },
  {
   "cell_type": "code",
   "execution_count": 45,
   "metadata": {},
   "outputs": [],
   "source": [
    "countries.to_csv('countries_2017.csv',sep=',')"
   ]
  },
  {
   "cell_type": "code",
   "execution_count": 7,
   "metadata": {},
   "outputs": [
    {
     "name": "stdout",
     "output_type": "stream",
     "text": [
      "[]\n"
     ]
    }
   ],
   "source": [
    "languages_CH = list(filter(('nan').__ne__, languages_CH))\n",
    "languages_CH = map(str.strip, languages_CH)\n",
    "c = cl.Counter(languages_CH)\n",
    "print(c.most_common(10))\n"
   ]
  }
 ],
 "metadata": {
  "kernelspec": {
   "display_name": "Python 3",
   "language": "python",
   "name": "python3"
  },
  "language_info": {
   "codemirror_mode": {
    "name": "ipython",
    "version": 3
   },
   "file_extension": ".py",
   "mimetype": "text/x-python",
   "name": "python",
   "nbconvert_exporter": "python",
   "pygments_lexer": "ipython3",
   "version": "3.6.4"
  }
 },
 "nbformat": 4,
 "nbformat_minor": 2
}
